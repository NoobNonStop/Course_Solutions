{
 "cells": [
  {
   "cell_type": "markdown",
   "metadata": {},
   "source": [
    "**Next Prime Number** - Have the program find prime numbers until the user chooses to stop asking for the next one."
   ]
  },
  {
   "cell_type": "code",
   "execution_count": 3,
   "metadata": {},
   "outputs": [],
   "source": [
    "def ifPrime(var) :\n",
    "    if var == 1:\n",
    "        return False\n",
    "    if var == 2 :\n",
    "        return True\n",
    "    elif var%2 == 0:\n",
    "        return False\n",
    "    n = 3\n",
    "    while(n < var) :\n",
    "        if var % n == 0:\n",
    "            return False\n",
    "        n = n+2\n",
    "    return True\n",
    "        "
   ]
  },
  {
   "cell_type": "code",
   "execution_count": 4,
   "metadata": {},
   "outputs": [
    {
     "data": {
      "text/plain": [
       "True"
      ]
     },
     "execution_count": 4,
     "metadata": {},
     "output_type": "execute_result"
    }
   ],
   "source": [
    "ifPrime(7)"
   ]
  },
  {
   "cell_type": "code",
   "execution_count": 5,
   "metadata": {},
   "outputs": [],
   "source": [
    "def findNextPrime(var) :\n",
    "    n = var + 1\n",
    "    while (ifPrime(n)== False) :\n",
    "        n = n + 1\n",
    "    return n\n"
   ]
  },
  {
   "cell_type": "code",
   "execution_count": 6,
   "metadata": {},
   "outputs": [
    {
     "data": {
      "text/plain": [
       "41"
      ]
     },
     "execution_count": 6,
     "metadata": {},
     "output_type": "execute_result"
    }
   ],
   "source": [
    "findNextPrime(37)"
   ]
  },
  {
   "cell_type": "code",
   "execution_count": 8,
   "metadata": {},
   "outputs": [
    {
     "name": "stdout",
     "output_type": "stream",
     "text": [
      "Enter the number of which you wanna find the next prime: 45\n",
      "47\n",
      "Wanna find the next prime? Yes\n",
      "53\n",
      "Wanna find the next prime? Yes\n",
      "59\n",
      "Wanna find the next prime? Yes\n",
      "61\n",
      "Wanna find the next prime? Yes\n",
      "67\n",
      "Wanna find the next prime? No\n"
     ]
    }
   ],
   "source": [
    "var = int(input(\"Enter the number of which you wanna find the next prime: \"))\n",
    "x = \"Yes\"\n",
    "while(x.lower() == \"yes\" ) :\n",
    "    var = findNextPrime(var)\n",
    "    print(var)\n",
    "    x = input(\"Wanna find the next prime? \")"
   ]
  },
  {
   "cell_type": "markdown",
   "metadata": {},
   "source": [
    "**========================================================================================================================**"
   ]
  },
  {
   "cell_type": "code",
   "execution_count": null,
   "metadata": {},
   "outputs": [],
   "source": []
  }
 ],
 "metadata": {
  "kernelspec": {
   "display_name": "Python 3",
   "language": "python",
   "name": "python3"
  },
  "language_info": {
   "codemirror_mode": {
    "name": "ipython",
    "version": 3
   },
   "file_extension": ".py",
   "mimetype": "text/x-python",
   "name": "python",
   "nbconvert_exporter": "python",
   "pygments_lexer": "ipython3",
   "version": "3.7.4"
  }
 },
 "nbformat": 4,
 "nbformat_minor": 2
}
