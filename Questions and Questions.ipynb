{
 "cells": [
  {
   "cell_type": "code",
   "execution_count": 53,
   "metadata": {},
   "outputs": [],
   "source": [
    "def circularArrayRotation(a, k, queries):\n",
    "    l = []\n",
    "    for i in range(k) :\n",
    "        x = []\n",
    "        x.append(a[len(a)-1])\n",
    "        a.remove(a[len(a)-1])\n",
    "        for q in range(len(a)) :\n",
    "            x.append(a[q])\n",
    "        a = x\n",
    "    for j in queries :\n",
    "        z = int(j)\n",
    "        l.append(a[z])\n",
    "    return l"
   ]
  },
  {
   "cell_type": "code",
   "execution_count": 55,
   "metadata": {},
   "outputs": [
    {
     "data": {
      "text/plain": [
       "[1, 4]"
      ]
     },
     "execution_count": 55,
     "metadata": {},
     "output_type": "execute_result"
    }
   ],
   "source": [
    "circularArrayRotation([1,2,3,4], 347, [3,2])"
   ]
  },
  {
   "cell_type": "code",
   "execution_count": 62,
   "metadata": {},
   "outputs": [],
   "source": [
    "def circularArrayRotation(a, k, queries) :\n",
    "    j = 0\n",
    "    while (j < k) :\n",
    "        l = []\n",
    "        x = []\n",
    "        x.append(a[-1])\n",
    "        a.remove(a[-1])\n",
    "        a = x + a\n",
    "        j = j + 1\n",
    "        \n",
    "    for s in queries :\n",
    "        l.append(a[s])\n",
    "    \n",
    "    return l\n",
    "        "
   ]
  },
  {
   "cell_type": "code",
   "execution_count": 63,
   "metadata": {},
   "outputs": [
    {
     "data": {
      "text/plain": [
       "[1, 4]"
      ]
     },
     "execution_count": 63,
     "metadata": {},
     "output_type": "execute_result"
    }
   ],
   "source": [
    "circularArrayRotation([1,2,3,4], 347, [3,2])"
   ]
  },
  {
   "cell_type": "code",
   "execution_count": null,
   "metadata": {},
   "outputs": [],
   "source": []
  },
  {
   "cell_type": "code",
   "execution_count": null,
   "metadata": {},
   "outputs": [],
   "source": []
  }
 ],
 "metadata": {
  "kernelspec": {
   "display_name": "Python 3",
   "language": "python",
   "name": "python3"
  },
  "language_info": {
   "codemirror_mode": {
    "name": "ipython",
    "version": 3
   },
   "file_extension": ".py",
   "mimetype": "text/x-python",
   "name": "python",
   "nbconvert_exporter": "python",
   "pygments_lexer": "ipython3",
   "version": "3.7.4"
  }
 },
 "nbformat": 4,
 "nbformat_minor": 2
}
