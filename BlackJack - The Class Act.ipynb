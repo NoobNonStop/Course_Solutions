{
 "cells": [
  {
   "cell_type": "code",
   "execution_count": 76,
   "metadata": {},
   "outputs": [],
   "source": [
    "#First, make a class bank which supplies money to player\n",
    "class Base() :\n",
    "    def __init__(self) :\n",
    "        pass"
   ]
  },
  {
   "cell_type": "code",
   "execution_count": 77,
   "metadata": {},
   "outputs": [],
   "source": [
    "class Bank(Base) :\n",
    "    balance = 1000\n",
    "    def withdraw(self, amt) :                    #for withdrawal i.e. when making a bet\n",
    "        self.amt = amt\n",
    "        if (self.amt <= self.balance) :\n",
    "            self.balance -= self.amt\n",
    "            print(f\"Withdrawn: {self.amt}\")\n",
    "            print(f\"Balance: {self.balance}\")\n",
    "        else :\n",
    "            print(\"Funds Unavailable!\")\n",
    "            return 0\n",
    "    def deposit(self, amt) :                    #for deposit i.e. when you win the bet\n",
    "        self.amt = amt\n",
    "        self.balance += self.amt\n",
    "        print(f\"Deposited: {self.amt}\")\n",
    "        print(f\"Balance: {self.balance}\")"
   ]
  },
  {
   "cell_type": "code",
   "execution_count": 78,
   "metadata": {},
   "outputs": [],
   "source": [
    "b = Bank()"
   ]
  },
  {
   "cell_type": "code",
   "execution_count": 79,
   "metadata": {},
   "outputs": [
    {
     "data": {
      "text/plain": [
       "1000"
      ]
     },
     "execution_count": 79,
     "metadata": {},
     "output_type": "execute_result"
    }
   ],
   "source": [
    "b.balance"
   ]
  },
  {
   "cell_type": "code",
   "execution_count": 80,
   "metadata": {},
   "outputs": [
    {
     "name": "stdout",
     "output_type": "stream",
     "text": [
      "Funds Unavailable!\n"
     ]
    },
    {
     "data": {
      "text/plain": [
       "0"
      ]
     },
     "execution_count": 80,
     "metadata": {},
     "output_type": "execute_result"
    }
   ],
   "source": [
    "b.withdraw(20000)"
   ]
  },
  {
   "cell_type": "code",
   "execution_count": 81,
   "metadata": {},
   "outputs": [],
   "source": [
    "#A class for the human player\n",
    "class Human(Base) :\n",
    "    x,y = \"\",\"\"\n",
    "    def HitOrStay(self) :                 #choice between hit or stay\n",
    "        self.x = input(\"Hit or Stay? : \") \n",
    "        return self.x\n",
    "    def playMore(self) :                  #choice between quitting and playing more\n",
    "        self.y = input(\"Wanna play more? Y/N : \")\n",
    "        if (self.y == \"Y\") :\n",
    "            return True\n",
    "        else:\n",
    "            return False"
   ]
  },
  {
   "cell_type": "code",
   "execution_count": 82,
   "metadata": {},
   "outputs": [
    {
     "name": "stdout",
     "output_type": "stream",
     "text": [
      "Wanna play more? Y/N : \n",
      "False\n",
      "Hit or Stay? : \n"
     ]
    },
    {
     "data": {
      "text/plain": [
       "''"
      ]
     },
     "execution_count": 82,
     "metadata": {},
     "output_type": "execute_result"
    }
   ],
   "source": [
    "human = Human()\n",
    "print(human.playMore())\n",
    "human.HitOrStay()"
   ]
  },
  {
   "cell_type": "code",
   "execution_count": 83,
   "metadata": {},
   "outputs": [],
   "source": [
    "#class for the computer behaviour\n",
    "import random\n",
    "class comp_plays(Base) :\n",
    "    ch = \"\"\n",
    "    def HitOrStay(self) :\n",
    "        self.ch = random.choice([\"Hit\", \"Stay\"])\n",
    "        return self.ch"
   ]
  },
  {
   "cell_type": "code",
   "execution_count": 84,
   "metadata": {},
   "outputs": [],
   "source": [
    "c = comp_plays()"
   ]
  },
  {
   "cell_type": "code",
   "execution_count": 85,
   "metadata": {},
   "outputs": [
    {
     "data": {
      "text/plain": [
       "'Hit'"
      ]
     },
     "execution_count": 85,
     "metadata": {},
     "output_type": "execute_result"
    }
   ],
   "source": [
    "c.HitOrStay()"
   ]
  },
  {
   "cell_type": "code",
   "execution_count": 86,
   "metadata": {},
   "outputs": [],
   "source": [
    "#class for the random choosing of cards\n",
    "import random\n",
    "class rand_ch_cards(Base) :\n",
    "    l = 0\n",
    "    c = []\n",
    "    def randomly_first(self, X) :\n",
    "        self.c = []\n",
    "        for i in range(2) :\n",
    "            \n",
    "            self.l = random.choice(X)\n",
    "            self.c.append(self.l)\n",
    "        return self.c\n",
    "    def randomly_second(self, Y) :\n",
    "        self.l = 0\n",
    "        self.l = random.choice(Y)\n",
    "        return self.l\n",
    "    def ace_value(self, x) :\n",
    "        self.x = x\n",
    "        if \"Ace\" in self.x :\n",
    "            self.x.remove(\"Ace\")\n",
    "            self.x.append(1)\n",
    "            if (sum(self.x) < 11) :\n",
    "                self.x.remove(1)\n",
    "                self.x.append(11)\n",
    "        return self.x"
   ]
  },
  {
   "cell_type": "code",
   "execution_count": 87,
   "metadata": {},
   "outputs": [],
   "source": [
    "Y = [1,2,3,4,5,6,7,8,9,10,10,10,\"Ace\"]\n",
    "X = Y*4"
   ]
  },
  {
   "cell_type": "code",
   "execution_count": 88,
   "metadata": {},
   "outputs": [
    {
     "name": "stdout",
     "output_type": "stream",
     "text": [
      "[4, 9]\n"
     ]
    }
   ],
   "source": [
    "z = rand_ch_cards()\n",
    "l = z.randomly_first(X)\n",
    "print(l)"
   ]
  },
  {
   "cell_type": "code",
   "execution_count": 89,
   "metadata": {},
   "outputs": [
    {
     "name": "stdout",
     "output_type": "stream",
     "text": [
      "[4, 9]\n"
     ]
    }
   ],
   "source": [
    "print(z.ace_value(l))"
   ]
  },
  {
   "cell_type": "code",
   "execution_count": 96,
   "metadata": {},
   "outputs": [
    {
     "name": "stdout",
     "output_type": "stream",
     "text": [
      "Wanna play more? Y/N : Y\n",
      "How much would you like to bet on?540\n",
      "Withdrawn: 540\n",
      "Balance: 460\n",
      "Player gets cards:  [10, 8]\n",
      "Hit or Stay? : Stay\n",
      "Dealer's first card is:  10\n",
      "[10, 1, 5]\n",
      "[10, 1, 5]\n",
      "Player's Cards: [10, 8]\n",
      "Dealer's Cards: [10, 1, 5]\n",
      "PLAYER WINS!\n",
      "Deposited: 1080\n",
      "Balance: 1540\n"
     ]
    },
    {
     "ename": "SystemExit",
     "evalue": "0",
     "output_type": "error",
     "traceback": [
      "An exception has occurred, use %tb to see the full traceback.\n",
      "\u001b[1;31mSystemExit\u001b[0m\u001b[1;31m:\u001b[0m 0\n"
     ]
    }
   ],
   "source": [
    "import sys\n",
    "#first, the player is asked to pledge an amount to the game\n",
    "bank = Bank()\n",
    "man = Human()\n",
    "rand = rand_ch_cards()\n",
    "while man.playMore() :\n",
    "    Y = [1,2,3,4,5,6,7,8,9,10,10,10,\"Ace\"]\n",
    "    X = Y*4\n",
    "    \n",
    "    amt = int(input(\"How much would you like to bet on?\"))\n",
    "    if (bank.withdraw(amt) == 0) :\n",
    "        sys.exit(0)\n",
    "    #next, he is given two cards, and the dealer gets 2 cards\n",
    "\n",
    "    human_cards = rand.randomly_first(X)\n",
    "    human_cards = rand.ace_value(human_cards)\n",
    "    print(\"Player gets cards: \", human_cards)\n",
    "    while man.HitOrStay().lower() == \"hit\" :\n",
    "            human_cards.append(rand.randomly_second(X))\n",
    "            print(human_cards)\n",
    "            human_cards = rand.ace_value(human_cards)\n",
    "            if (sum(human_cards) >= 21) :\n",
    "                print(\"PLAYER BUSTED!\")\n",
    "                sys.exit(0)\n",
    "            continue\n",
    "    \n",
    "\n",
    "        \n",
    "\n",
    "    comp = comp_plays()\n",
    "    comp_cards = rand.randomly_first(X)\n",
    "    print(\"Dealer's first card is: \", comp_cards[0])\n",
    "    while comp.HitOrStay().lower() == 'hit' :\n",
    "            comp_cards.append(rand.randomly_second(X))\n",
    "            comp_cards = rand.ace_value(comp_cards)\n",
    "            print(comp_cards)\n",
    "            if (sum(comp_cards) >= 21) :\n",
    "                print(\"DEALER BUSTED!\")\n",
    "                bank.deposit(2*amt)\n",
    "                sys.exit(0)\n",
    "            continue\n",
    "            \n",
    "    if comp.HitOrStay().lower() == \"stay\" :\n",
    "        print(comp_cards)\n",
    "        comp_cards = rand.ace_value(comp_cards)\n",
    "\n",
    "        if (sum(comp_cards) >= 21) :\n",
    "            print(comp_cards)\n",
    "            print(\"DEALER BUSTED!\")\n",
    "            bank.deposit(2*amt)\n",
    "            sys.exit(0)\n",
    "    if (sum(comp_cards) > sum(human_cards) and sum(comp_cards) < 21) :\n",
    "        print(\"Player's Cards:\", human_cards)\n",
    "        print(\"Dealer's Cards:\", comp_cards)\n",
    "        print(\"DEALER WINS!\")\n",
    "        sys.exit(0)\n",
    "    elif (sum(comp_cards) < sum(human_cards) < 21) :\n",
    "        print(\"Player's Cards:\", human_cards)\n",
    "        print(\"Dealer's Cards:\", comp_cards)\n",
    "        print(\"PLAYER WINS!\")\n",
    "\n",
    "        bank.deposit(2*amt)\n",
    "        sys.exit(0)\n",
    "    elif (sum(comp_cards) == sum(human_cards)) :\n",
    "        print(\"IT'S A TIE!\")\n",
    "        bank.deposit(amt)\n",
    "    human_cards = []\n",
    "    comp_cards = []\n",
    "    continue"
   ]
  },
  {
   "cell_type": "code",
   "execution_count": null,
   "metadata": {},
   "outputs": [],
   "source": []
  },
  {
   "cell_type": "code",
   "execution_count": null,
   "metadata": {},
   "outputs": [],
   "source": []
  },
  {
   "cell_type": "code",
   "execution_count": null,
   "metadata": {},
   "outputs": [],
   "source": []
  }
 ],
 "metadata": {
  "kernelspec": {
   "display_name": "Python 3",
   "language": "python",
   "name": "python3"
  },
  "language_info": {
   "codemirror_mode": {
    "name": "ipython",
    "version": 3
   },
   "file_extension": ".py",
   "mimetype": "text/x-python",
   "name": "python",
   "nbconvert_exporter": "python",
   "pygments_lexer": "ipython3",
   "version": "3.7.4"
  }
 },
 "nbformat": 4,
 "nbformat_minor": 2
}
