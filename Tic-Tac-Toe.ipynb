{
 "cells": [
  {
   "cell_type": "code",
   "execution_count": 1,
   "metadata": {},
   "outputs": [
    {
     "name": "stdout",
     "output_type": "stream",
     "text": [
      "WORKING!\n"
     ]
    }
   ],
   "source": [
    "print(\"WORKING!\")"
   ]
  },
  {
   "cell_type": "code",
   "execution_count": 2,
   "metadata": {},
   "outputs": [],
   "source": [
    "arr = [\" \", \" \", \" \", \" \", \" \", \" \", \" \", \" \", \" \"]"
   ]
  },
  {
   "cell_type": "code",
   "execution_count": 3,
   "metadata": {},
   "outputs": [
    {
     "data": {
      "text/plain": [
       "' '"
      ]
     },
     "execution_count": 3,
     "metadata": {},
     "output_type": "execute_result"
    }
   ],
   "source": [
    "arr[1]"
   ]
  },
  {
   "cell_type": "code",
   "execution_count": 10,
   "metadata": {},
   "outputs": [],
   "source": [
    "def grid(a, b, c, d, e, f, g, h, i) :\n",
    "    grid1 = \"         |       |          \"\n",
    "    grid2 = f\"{g}     | {h}   |  {i}     \" \n",
    "    grid3 = \"         |       |          \" \n",
    "    grid4 = \"============================\" \n",
    "    grid5 = \"         |       |          \"\n",
    "    grid6 = f\"{d}     | {e}   |  {f}     \" \n",
    "    grid7 = \"         |       |          \" \n",
    "    grid8 = \"============================\" \n",
    "    grid9 = \"         |       |          \"\n",
    "    grida = f\"{a}     | {b}   |  {c}     \"\n",
    "    gridb = \"         |       |          \"\n",
    "    return(grid1+grid2+grid3+grid4+grid5+grid6+grid7+grid8+grid9+grida+gridb)\n",
    "    \n",
    "    \n",
    "    "
   ]
  },
  {
   "cell_type": "code",
   "execution_count": 11,
   "metadata": {},
   "outputs": [],
   "source": [
    "def grid(a, b, c, d, e, f, g, h, i) :\n",
    "    grid = [\"\", \"\", \"\", \"\", \"\", \"\", \"\", \"\", \"\", \"\", \"\"]\n",
    "    grid[0] = \"         |       |          \"\n",
    "    grid[1] = f\"      {g}  |   {h}   |  {i}     \" \n",
    "    grid[2] = \"         |       |          \" \n",
    "    grid[3] = \"============================\" \n",
    "    grid[4] = \"         |       |          \"\n",
    "    grid[5] = f\"      {d}  |   {e}   |  {f}     \" \n",
    "    grid[6] = \"         |       |          \" \n",
    "    grid[7] = \"============================\" \n",
    "    grid[8] = \"         |       |          \"\n",
    "    grid[9] = f\"      {a}  |   {b}   |  {c}     \" \n",
    "    grid[10] = \"         |       |          \"\n",
    "    for i in range(0, 11, 1) :\n",
    "        print(grid[i], end = '\\n')\n",
    "    \n",
    "    \n",
    "    \n",
    "    \n",
    "    "
   ]
  },
  {
   "cell_type": "code",
   "execution_count": 12,
   "metadata": {},
   "outputs": [
    {
     "name": "stdout",
     "output_type": "stream",
     "text": [
      "         |       |          \n",
      "         |       |        \n",
      "         |       |          \n",
      "============================\n",
      "         |       |          \n",
      "         |       |        \n",
      "         |       |          \n",
      "============================\n",
      "         |       |          \n",
      "         |       |        \n",
      "         |       |          \n"
     ]
    }
   ],
   "source": [
    "grid(' ', ' ', ' ', ' ', ' ', ' ', ' ', ' ', ' ')\n"
   ]
  },
  {
   "cell_type": "code",
   "execution_count": 13,
   "metadata": {},
   "outputs": [],
   "source": [
    "def takein() :\n",
    "    y = input(\"Choose: x or 0?  \")\n",
    "    if (y != '0' and y != 'x') :\n",
    "        print(\"Default value chosen: \" + \"0\")\n",
    "        y = '0';\n",
    "    return y    "
   ]
  },
  {
   "cell_type": "code",
   "execution_count": 14,
   "metadata": {},
   "outputs": [
    {
     "name": "stdout",
     "output_type": "stream",
     "text": [
      "Choose: x or 0?  x\n"
     ]
    },
    {
     "data": {
      "text/plain": [
       "'x'"
      ]
     },
     "execution_count": 14,
     "metadata": {},
     "output_type": "execute_result"
    }
   ],
   "source": [
    "takein()\n"
   ]
  },
  {
   "cell_type": "code",
   "execution_count": 15,
   "metadata": {},
   "outputs": [
    {
     "name": "stdout",
     "output_type": "stream",
     "text": [
      "Choose: x or 0?  x\n",
      "         |       |          \n",
      "         |       |        \n",
      "         |       |          \n",
      "============================\n",
      "         |       |          \n",
      "         |       |        \n",
      "         |       |          \n",
      "============================\n",
      "         |       |          \n",
      "         |       |        \n",
      "         |       |          \n",
      "Player 1, What position? Specify:   0\n",
      "         |       |          \n",
      "         |       |  x     \n",
      "         |       |          \n",
      "============================\n",
      "         |       |          \n",
      "         |       |        \n",
      "         |       |          \n",
      "============================\n",
      "         |       |          \n",
      "         |       |        \n",
      "         |       |          \n",
      "Player 2, What position? Specify:   x\n"
     ]
    },
    {
     "ename": "ValueError",
     "evalue": "invalid literal for int() with base 10: 'x'",
     "output_type": "error",
     "traceback": [
      "\u001b[1;31m---------------------------------------------------------------------------\u001b[0m",
      "\u001b[1;31mValueError\u001b[0m                                Traceback (most recent call last)",
      "\u001b[1;32m<ipython-input-15-f3c491880cec>\u001b[0m in \u001b[0;36m<module>\u001b[1;34m\u001b[0m\n\u001b[0;32m     23\u001b[0m                     \u001b[0msys\u001b[0m\u001b[1;33m.\u001b[0m\u001b[0mexit\u001b[0m\u001b[1;33m(\u001b[0m\u001b[1;36m0\u001b[0m\u001b[1;33m)\u001b[0m\u001b[1;33m;\u001b[0m\u001b[1;33m\u001b[0m\u001b[1;33m\u001b[0m\u001b[0m\n\u001b[0;32m     24\u001b[0m     \u001b[1;32melif\u001b[0m \u001b[1;33m(\u001b[0m\u001b[0mj\u001b[0m\u001b[1;33m%\u001b[0m\u001b[1;36m2\u001b[0m \u001b[1;33m==\u001b[0m \u001b[1;36m1\u001b[0m\u001b[1;33m)\u001b[0m \u001b[1;33m:\u001b[0m\u001b[1;33m\u001b[0m\u001b[1;33m\u001b[0m\u001b[0m\n\u001b[1;32m---> 25\u001b[1;33m         \u001b[0my\u001b[0m \u001b[1;33m=\u001b[0m\u001b[0mint\u001b[0m\u001b[1;33m(\u001b[0m\u001b[0minput\u001b[0m\u001b[1;33m(\u001b[0m\u001b[1;34m\"Player 2, What position? Specify:   \"\u001b[0m\u001b[1;33m)\u001b[0m\u001b[1;33m)\u001b[0m\u001b[1;33m\u001b[0m\u001b[1;33m\u001b[0m\u001b[0m\n\u001b[0m\u001b[0;32m     26\u001b[0m         \u001b[0marr\u001b[0m\u001b[1;33m[\u001b[0m\u001b[0my\u001b[0m \u001b[1;33m-\u001b[0m \u001b[1;36m1\u001b[0m\u001b[1;33m]\u001b[0m \u001b[1;33m=\u001b[0m \u001b[0mk\u001b[0m\u001b[1;33m;\u001b[0m\u001b[1;33m\u001b[0m\u001b[1;33m\u001b[0m\u001b[0m\n\u001b[0;32m     27\u001b[0m         \u001b[0mgrid\u001b[0m\u001b[1;33m(\u001b[0m\u001b[0marr\u001b[0m\u001b[1;33m[\u001b[0m\u001b[1;36m0\u001b[0m\u001b[1;33m]\u001b[0m\u001b[1;33m,\u001b[0m \u001b[0marr\u001b[0m\u001b[1;33m[\u001b[0m\u001b[1;36m1\u001b[0m\u001b[1;33m]\u001b[0m\u001b[1;33m,\u001b[0m \u001b[0marr\u001b[0m\u001b[1;33m[\u001b[0m\u001b[1;36m2\u001b[0m\u001b[1;33m]\u001b[0m\u001b[1;33m,\u001b[0m \u001b[0marr\u001b[0m\u001b[1;33m[\u001b[0m\u001b[1;36m3\u001b[0m\u001b[1;33m]\u001b[0m\u001b[1;33m,\u001b[0m \u001b[0marr\u001b[0m\u001b[1;33m[\u001b[0m\u001b[1;36m4\u001b[0m\u001b[1;33m]\u001b[0m\u001b[1;33m,\u001b[0m \u001b[0marr\u001b[0m\u001b[1;33m[\u001b[0m\u001b[1;36m5\u001b[0m\u001b[1;33m]\u001b[0m\u001b[1;33m,\u001b[0m \u001b[0marr\u001b[0m\u001b[1;33m[\u001b[0m\u001b[1;36m6\u001b[0m\u001b[1;33m]\u001b[0m\u001b[1;33m,\u001b[0m \u001b[0marr\u001b[0m\u001b[1;33m[\u001b[0m\u001b[1;36m7\u001b[0m\u001b[1;33m]\u001b[0m\u001b[1;33m,\u001b[0m \u001b[0marr\u001b[0m\u001b[1;33m[\u001b[0m\u001b[1;36m8\u001b[0m\u001b[1;33m]\u001b[0m\u001b[1;33m)\u001b[0m\u001b[1;33m\u001b[0m\u001b[1;33m\u001b[0m\u001b[0m\n",
      "\u001b[1;31mValueError\u001b[0m: invalid literal for int() with base 10: 'x'"
     ]
    }
   ],
   "source": [
    "import sys\n",
    "arr = [\" \", \" \", \" \", \" \", \" \", \" \", \" \", \" \", \" \"]\n",
    "j = 0\n",
    "i = takein()\n",
    "grid(arr[0], arr[1], arr[2], arr[3], arr[4], arr[5], arr[6], arr[7], arr[8])\n",
    "if (i == 'x') :\n",
    "    k = '0'\n",
    "else :\n",
    "    k = 'x'\n",
    "while(j < 9) :\n",
    "    if (j%2 == 0) : \n",
    "        y =int(input(\"Player 1, What position? Specify:   \"))\n",
    "        arr[y - 1] = i;\n",
    "    \n",
    "        grid(arr[0], arr[1], arr[2], arr[3], arr[4], arr[5], arr[6], arr[7], arr[8])\n",
    "        if (j > 4) :\n",
    "            for i in range(0,3,1) :\n",
    "                if (arr[i] == arr[i+3] == arr[i+6]) :\n",
    "                    print(arr[i] + \" won!\")\n",
    "                    sys.exit(0)\n",
    "                if (arr[0] == arr[4] == arr[8] or arr[2] == arr[4] == arr[6]) :\n",
    "                    print(arr[0] + \" won!\")\n",
    "                    sys.exit(0);\n",
    "    elif (j%2 == 1) :\n",
    "        y =int(input(\"Player 2, What position? Specify:   \"))\n",
    "        arr[y - 1] = k;\n",
    "        grid(arr[0], arr[1], arr[2], arr[3], arr[4], arr[5], arr[6], arr[7], arr[8])\n",
    "        if (j > 4) :\n",
    "            \n",
    "            for i in range(0,3,1) :\n",
    "                if (arr[i] == arr[i+3] == arr[i+6]) :\n",
    "                    print(arr[i] + \" won!\")\n",
    "                    sys.exit(0);\n",
    "                if (arr[0] == arr[4] == arr[8] or arr[2] == arr[4] == arr[6]) :\n",
    "                    print(arr[4] + \" won!\")\n",
    "                    sys.exit(0);\n",
    "    \n",
    "    j = j + 1"
   ]
  },
  {
   "cell_type": "code",
   "execution_count": null,
   "metadata": {},
   "outputs": [],
   "source": []
  },
  {
   "cell_type": "code",
   "execution_count": null,
   "metadata": {},
   "outputs": [],
   "source": []
  }
 ],
 "metadata": {
  "kernelspec": {
   "display_name": "Python 3",
   "language": "python",
   "name": "python3"
  },
  "language_info": {
   "codemirror_mode": {
    "name": "ipython",
    "version": 3
   },
   "file_extension": ".py",
   "mimetype": "text/x-python",
   "name": "python",
   "nbconvert_exporter": "python",
   "pygments_lexer": "ipython3",
   "version": "3.7.4"
  }
 },
 "nbformat": 4,
 "nbformat_minor": 2
}
