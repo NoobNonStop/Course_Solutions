{
 "cells": [
  {
   "cell_type": "code",
   "execution_count": 40,
   "metadata": {},
   "outputs": [
    {
     "name": "stdout",
     "output_type": "stream",
     "text": [
      "Connected!\n"
     ]
    }
   ],
   "source": [
    "print(\"Connected!\")"
   ]
  },
  {
   "cell_type": "code",
   "execution_count": 41,
   "metadata": {},
   "outputs": [],
   "source": [
    "class Bank() :\n",
    "    amount = 0\n",
    "    def __init__(self, balance) :\n",
    "        self.balance = balance\n",
    "    def withdraw(amount) :\n",
    "        if (self.amount < self.balance) :\n",
    "            self.balance -= self.amount\n",
    "            print(f\"Withdrawn {self.amount} from the bank.\")\n",
    "        else :\n",
    "            print(\"Funds Unavailable!\")\n",
    "    def deposit(amount) :\n",
    "        self.balance = self.balance + self.amount\n",
    "        print(f\"Deposited {self.amount} from the bank.\")\n",
    "        "
   ]
  },
  {
   "cell_type": "code",
   "execution_count": 42,
   "metadata": {},
   "outputs": [],
   "source": [
    "class Dude() :\n",
    "    def __init__(self, choice2) :\n",
    "        self.choice2 = choice2 #choice2 is regarding playing more or not.\n",
    "    def willPlay(self, choice1) :\n",
    "         self.choice1 = choice1 #choice1 is regarding \"hit\" or \"stay\"\n",
    "    "
   ]
  },
  {
   "cell_type": "code",
   "execution_count": 43,
   "metadata": {},
   "outputs": [],
   "source": [
    "z = Dude(True)"
   ]
  },
  {
   "cell_type": "code",
   "execution_count": 60,
   "metadata": {},
   "outputs": [],
   "source": [
    "def cards() :\n",
    "    x = [1,2,3,4,5,6,7,8,9,10,10,10,11]\n",
    "    y = 4 * x\n",
    "    return y"
   ]
  },
  {
   "cell_type": "code",
   "execution_count": 57,
   "metadata": {},
   "outputs": [],
   "source": [
    "import random\n",
    "def random_computer(x) :\n",
    "    q = []\n",
    "    for i in range(2) :\n",
    "        l = random.choice(x)\n",
    "        x.remove(l)\n",
    "        q.append(l)\n",
    "    return(q)\n",
    "        \n",
    "    "
   ]
  },
  {
   "cell_type": "code",
   "execution_count": 53,
   "metadata": {},
   "outputs": [],
   "source": [
    "def random_human(x) :\n",
    "    q = []\n",
    "    for i in range(2) :\n",
    "        l = random.choice(x)\n",
    "        x.remove(l)\n",
    "        q.append(l)\n",
    "    return(q)\n"
   ]
  },
  {
   "cell_type": "code",
   "execution_count": 54,
   "metadata": {},
   "outputs": [],
   "source": [
    "def after_rand(x) :\n",
    "    l = random.choice(x)\n",
    "    x.remove(l)\n",
    "    return(l)"
   ]
  },
  {
   "cell_type": "code",
   "execution_count": 55,
   "metadata": {},
   "outputs": [
    {
     "ename": "SyntaxError",
     "evalue": "unexpected EOF while parsing (<ipython-input-55-2bc4cb41aeaf>, line 10)",
     "output_type": "error",
     "traceback": [
      "\u001b[1;36m  File \u001b[1;32m\"<ipython-input-55-2bc4cb41aeaf>\"\u001b[1;36m, line \u001b[1;32m10\u001b[0m\n\u001b[1;33m    \u001b[0m\n\u001b[1;37m    ^\u001b[0m\n\u001b[1;31mSyntaxError\u001b[0m\u001b[1;31m:\u001b[0m unexpected EOF while parsing\n"
     ]
    }
   ],
   "source": [
    "c = Bank(1000)\n",
    "while(z.choice2 && c.balance > 0) :\n",
    "    amt_to_draw = int(input(\"What amount would you like to withdraw from your bank?\"))\n",
    "    c.withdraw(amt_to_draw)\n",
    "    computer = []\n",
    "    human = []\n",
    "    x = cards()\n",
    "    comp_cards = random_computer(x)\n",
    "    human_cards = random_human(x)\n",
    "    z.choice1 = input(\"Stay or Hit?\")\n",
    "    \n",
    "    while (z.choice1 == \"Hit\") :\n",
    "        z.choice1 = input(\"Stay or Hit?\")\n",
    "        human_cards.append(l)\n",
    "        print(\"Your Cards :\", l)\n",
    "        if (sum(human_cards) >= 21) :\n",
    "            print(\"BUSTED!\")\n",
    "    if (sum(computer_cards) < sum(human_cards) < 21) :\n",
    "        c.deposit(2*amt_to_draw)\n",
    "    elif (sum(human_cards) < sum())\n",
    "        \n",
    "        \n",
    "    \n",
    "        "
   ]
  },
  {
   "cell_type": "code",
   "execution_count": 62,
   "metadata": {},
   "outputs": [
    {
     "name": "stdout",
     "output_type": "stream",
     "text": [
      "['vfni', 'vnj', 2, 438]\n"
     ]
    }
   ],
   "source": [
    "x = [\"vfni\", \"vnj\", 2,438]\n",
    "print(x)"
   ]
  },
  {
   "cell_type": "code",
   "execution_count": null,
   "metadata": {},
   "outputs": [],
   "source": []
  },
  {
   "cell_type": "code",
   "execution_count": null,
   "metadata": {},
   "outputs": [],
   "source": []
  },
  {
   "cell_type": "code",
   "execution_count": null,
   "metadata": {},
   "outputs": [],
   "source": []
  },
  {
   "cell_type": "code",
   "execution_count": null,
   "metadata": {},
   "outputs": [],
   "source": []
  },
  {
   "cell_type": "code",
   "execution_count": null,
   "metadata": {},
   "outputs": [],
   "source": []
  },
  {
   "cell_type": "code",
   "execution_count": null,
   "metadata": {},
   "outputs": [],
   "source": []
  },
  {
   "cell_type": "code",
   "execution_count": null,
   "metadata": {},
   "outputs": [],
   "source": []
  },
  {
   "cell_type": "code",
   "execution_count": null,
   "metadata": {},
   "outputs": [],
   "source": []
  },
  {
   "cell_type": "code",
   "execution_count": null,
   "metadata": {},
   "outputs": [],
   "source": []
  },
  {
   "cell_type": "code",
   "execution_count": 35,
   "metadata": {},
   "outputs": [],
   "source": [
    "class Bank() :\n",
    "    amount = 0\n",
    "    def __init__(self, balance) :\n",
    "        self.balance = balance\n",
    "    def withdraw(self, amount) :\n",
    "        self.amount = amount\n",
    "        if (self.amount <= self.balance) :\n",
    "           \n",
    "            self.balance -= self.amount\n",
    "            print(f\"Withdrawn amount: {self.amount}\")\n",
    "            print(f\"Balance left: {self.balance}\")\n",
    "        else :\n",
    "            print(\"Funds Unavailable!\")\n",
    "            return 0\n",
    "    def deposit(self, amount) :\n",
    "        self.amount = amount\n",
    "        self.balance += self.amount\n",
    "        print(f\"Deposited amount: {self.amount}\")\n",
    "        print(f\"Balance is: {self.balance}\")\n",
    "    "
   ]
  },
  {
   "cell_type": "code",
   "execution_count": 36,
   "metadata": {},
   "outputs": [],
   "source": [
    "x = Bank(10000)"
   ]
  },
  {
   "cell_type": "code",
   "execution_count": 37,
   "metadata": {
    "tags": []
   },
   "outputs": [
    {
     "name": "stdout",
     "output_type": "stream",
     "text": [
      "Deposited amount: 3000\n",
      "Balance is: 13000\n"
     ]
    }
   ],
   "source": [
    "x.deposit(3000)"
   ]
  },
  {
   "cell_type": "code",
   "execution_count": 38,
   "metadata": {
    "tags": []
   },
   "outputs": [
    {
     "name": "stdout",
     "output_type": "stream",
     "text": [
      "Funds Unavailable!\n"
     ]
    },
    {
     "data": {
      "text/plain": [
       "0"
      ]
     },
     "execution_count": 38,
     "metadata": {},
     "output_type": "execute_result"
    }
   ],
   "source": [
    "x.withdraw(46720)"
   ]
  },
  {
   "cell_type": "code",
   "execution_count": 27,
   "metadata": {},
   "outputs": [],
   "source": [
    "class Human() :\n",
    "    def __init__(self) :\n",
    "        pass\n",
    "    def HitStay(self, choice) :\n",
    "        self.choice = choice\n",
    "        return choice\n",
    "    def Playornot(self, gamble) :\n",
    "        self.gamble = gamble\n",
    "        if (gamble == \"Yes\") :\n",
    "            return True\n",
    "        elif (gamble == \"No\") :\n",
    "            return False\n",
    "        "
   ]
  },
  {
   "cell_type": "code",
   "execution_count": 28,
   "metadata": {},
   "outputs": [],
   "source": [
    "c = Human()"
   ]
  },
  {
   "cell_type": "code",
   "execution_count": 29,
   "metadata": {},
   "outputs": [
    {
     "data": {
      "text/plain": [
       "True"
      ]
     },
     "execution_count": 29,
     "metadata": {},
     "output_type": "execute_result"
    }
   ],
   "source": [
    "x = c.Playornot(\"Yes\")\n",
    "x"
   ]
  },
  {
   "cell_type": "code",
   "execution_count": 30,
   "metadata": {},
   "outputs": [
    {
     "name": "stdout",
     "output_type": "stream",
     "text": [
      "Continue Playing? Yes/No\n"
     ]
    }
   ],
   "source": [
    "c = Human()\n",
    "q = c.Playornot(\"Yes\")\n",
    "while (q) :\n",
    "    x = input(\"Continue Playing? Yes/No\")\n",
    "    q = c.Playornot(x)\n",
    "\n",
    "\n"
   ]
  },
  {
   "cell_type": "code",
   "execution_count": 31,
   "metadata": {},
   "outputs": [],
   "source": [
    "import random\n",
    "class randcards() :\n",
    "    x = [1,2,3,4,5,6,7,8,9,10,10,10,\"Ace\"]\n",
    "    y = x * 4\n",
    "    cards = []\n",
    "    def __init__(self) :\n",
    "        pass\n",
    "    def choose_cards_01(self) :\n",
    "        for i in range(2) :\n",
    "            e = random.choice(self.y)\n",
    "            self.y.remove(e)\n",
    "            self.cards.append(e)    \n",
    "        return self.cards\n",
    "    def choose_cards_02(self) :\n",
    "        e = random.choice(self.y)\n",
    "        self.y.remove(e)\n",
    "        return e\n",
    "    def check_ace(self,arr) :\n",
    "        if (\"Ace\" in arr) :\n",
    "            arr.remove(\"Ace\")\n",
    "            arr.append(1)\n",
    "            if (sum(arr) < 11) :\n",
    "                arr.remove(1)\n",
    "                arr.append(11)\n",
    "                \n",
    "\n",
    "           "
   ]
  },
  {
   "cell_type": "code",
   "execution_count": 32,
   "metadata": {},
   "outputs": [],
   "source": [
    "class comp_plays() :\n",
    "    choice = \"\"\n",
    "    def __init__(self) :\n",
    "        pass\n",
    "    def HitStay(self) :\n",
    "        self.choice = random.choice([\"Hit\", \"Stay\"])\n",
    "        return self.choice\n",
    "        "
   ]
  },
  {
   "cell_type": "code",
   "execution_count": null,
   "metadata": {
    "tags": []
   },
   "outputs": [],
   "source": []
  },
  {
   "cell_type": "code",
   "execution_count": 33,
   "metadata": {},
   "outputs": [
    {
     "name": "stdout",
     "output_type": "stream",
     "text": [
      "Enter Amount to Bet on: 400\n",
      "Withdrawn amount: 400\n",
      "Balance left: 600\n",
      "[10, 6]\n",
      "Hit or Stay?Stay\n",
      "[10, 6, 1]\n",
      "Stay\n",
      "[10, 10, 1, 10, 10, 4, 10, 4, 6, 8, 3, 10, 1, 4, 1, 2, 6, 8, 7, 3, 10, 5, 3]\n",
      "COMPUTER BUSTED!\n",
      "Deposited amount: 800\n",
      "Balance is: 1400\n"
     ]
    }
   ],
   "source": [
    "# BlackJack: The Class Act\n",
    "bank = Bank(1000)\n",
    "c = Human()\n",
    "d = comp_plays()\n",
    "w = randcards()\n",
    "q = c.Playornot(\"Yes\")\n",
    "while (q) :\n",
    "    amt = int(input(\"Enter Amount to Bet on: \"))\n",
    "    bank.withdraw(amt)\n",
    "    human_cards = w.choose_cards_01()\n",
    "    print(human_cards)\n",
    "    choice = input(\"Hit or Stay?\")\n",
    "    while (choice == \"Hit\") :\n",
    "        human_cards.append(w.choose_cards_02())\n",
    "        w.check_ace(human_cards)\n",
    "        print(human_cards)\n",
    "        if sum(human_cards) > 21 :\n",
    "            print(\"PLAYER BUSTED!!!\")\n",
    "            break\n",
    "        choice = input(\"Hit or Stay?\")\n",
    "    if (choice == \"Stay\") :\n",
    "        human_cards.append(w.choose_cards_02())\n",
    "        w.check_ace(human_cards)\n",
    "        print(human_cards)\n",
    "    x = comp_plays()\n",
    "    comp_cards = []\n",
    "    comp_cards = s.choose_cards_01()\n",
    "    a = x.HitStay()\n",
    "    while (a == \"Hit\") :\n",
    "        print(\"Hit\")\n",
    "        comp_cards.append(w.choose_cards_02())\n",
    "       \n",
    "        w.check_ace(comp_cards)\n",
    "        print(comp_cards)\n",
    "        if sum(comp_cards) >= 21 :\n",
    "            print(\"COMPUTER BUSTED!\")\n",
    "            bank.deposit(2*amt)\n",
    "            break\n",
    "        a = x.HitStay()\n",
    "    if (a == \"Stay\") :\n",
    "        print(\"Stay\")\n",
    "        comp_cards.append(s.choose_cards_02())\n",
    "        w.check_ace(comp_cards)\n",
    "        print(comp_cards)\n",
    "        if sum(comp_cards) >= 21 :\n",
    "            print(\"COMPUTER BUSTED!\")\n",
    "            bank.deposit(2*amt)\n",
    "            break\n",
    "    if(sum(comp_cards) > sum(human_cards)) :\n",
    "        print(\"COMPUTER WINS!!!\")\n",
    "        break\n",
    "    elif (sum(comp_cards) < sum(human_cards)) :\n",
    "        print(\"PLAYER WINS!!!!\")\n",
    "        bank.deposit(2*amt)\n",
    "        break\n",
    "    x = input(\"Continue Playing? Yes/No\")\n",
    "    q = c.Playornot(x)"
   ]
  },
  {
   "cell_type": "code",
   "execution_count": 34,
   "metadata": {},
   "outputs": [
    {
     "name": "stdout",
     "output_type": "stream",
     "text": [
      "1400\n"
     ]
    }
   ],
   "source": [
    "print(bank.balance)"
   ]
  },
  {
   "cell_type": "code",
   "execution_count": null,
   "metadata": {},
   "outputs": [],
   "source": []
  }
 ],
 "metadata": {
  "kernelspec": {
   "display_name": "Python 3",
   "language": "python",
   "name": "python3"
  },
  "language_info": {
   "codemirror_mode": {
    "name": "ipython",
    "version": 3
   },
   "file_extension": ".py",
   "mimetype": "text/x-python",
   "name": "python",
   "nbconvert_exporter": "python",
   "pygments_lexer": "ipython3",
   "version": "3.7.4"
  }
 },
 "nbformat": 4,
 "nbformat_minor": 2
}
