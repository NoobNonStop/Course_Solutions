{
 "cells": [
  {
   "cell_type": "code",
   "execution_count": 2,
   "metadata": {},
   "outputs": [],
   "source": [
    "def check() :\n",
    "    x = 'Kernel Running!'\n",
    "    return x"
   ]
  },
  {
   "cell_type": "code",
   "execution_count": 3,
   "metadata": {},
   "outputs": [
    {
     "data": {
      "text/plain": [
       "'Kernel Running!'"
      ]
     },
     "execution_count": 3,
     "metadata": {},
     "output_type": "execute_result"
    }
   ],
   "source": [
    "check()"
   ]
  },
  {
   "cell_type": "markdown",
   "metadata": {},
   "source": [
    "# Introduction to Classes"
   ]
  },
  {
   "cell_type": "code",
   "execution_count": 9,
   "metadata": {},
   "outputs": [],
   "source": [
    "mylist = [2,3,4,3]"
   ]
  },
  {
   "cell_type": "code",
   "execution_count": 10,
   "metadata": {},
   "outputs": [
    {
     "name": "stdout",
     "output_type": "stream",
     "text": [
      "[2, 3, 3, 4]\n"
     ]
    }
   ],
   "source": [
    "mylist.sort()\n",
    "print(mylist)"
   ]
  },
  {
   "cell_type": "code",
   "execution_count": 23,
   "metadata": {},
   "outputs": [],
   "source": [
    "mylist = set()"
   ]
  },
  {
   "cell_type": "code",
   "execution_count": 24,
   "metadata": {},
   "outputs": [
    {
     "data": {
      "text/plain": [
       "set"
      ]
     },
     "execution_count": 24,
     "metadata": {},
     "output_type": "execute_result"
    }
   ],
   "source": [
    "type(mylist)"
   ]
  },
  {
   "cell_type": "code",
   "execution_count": 25,
   "metadata": {},
   "outputs": [
    {
     "data": {
      "text/plain": [
       "set()"
      ]
     },
     "execution_count": 25,
     "metadata": {},
     "output_type": "execute_result"
    }
   ],
   "source": [
    "mylist"
   ]
  },
  {
   "cell_type": "code",
   "execution_count": 26,
   "metadata": {},
   "outputs": [
    {
     "name": "stdout",
     "output_type": "stream",
     "text": [
      "set()\n"
     ]
    }
   ],
   "source": [
    "print(mylist)"
   ]
  },
  {
   "cell_type": "code",
   "execution_count": 27,
   "metadata": {},
   "outputs": [],
   "source": [
    "class Sample() :\n",
    "    pass"
   ]
  },
  {
   "cell_type": "code",
   "execution_count": 28,
   "metadata": {},
   "outputs": [],
   "source": [
    "my_sample = Sample()"
   ]
  },
  {
   "cell_type": "code",
   "execution_count": 29,
   "metadata": {},
   "outputs": [
    {
     "data": {
      "text/plain": [
       "__main__.Sample"
      ]
     },
     "execution_count": 29,
     "metadata": {},
     "output_type": "execute_result"
    }
   ],
   "source": [
    "type(my_sample)"
   ]
  },
  {
   "cell_type": "code",
   "execution_count": 30,
   "metadata": {},
   "outputs": [],
   "source": [
    "class One() :\n",
    "    def __init__(self, zero, two, x) :\n",
    "        self.zero = zero\n",
    "        self.two = two\n",
    "        self.x = x\n",
    "    "
   ]
  },
  {
   "cell_type": "code",
   "execution_count": 33,
   "metadata": {},
   "outputs": [],
   "source": [
    "X = One(zero = 0, two = 2, x = \"Whatever you want\")"
   ]
  },
  {
   "cell_type": "code",
   "execution_count": 34,
   "metadata": {},
   "outputs": [
    {
     "data": {
      "text/plain": [
       "2"
      ]
     },
     "execution_count": 34,
     "metadata": {},
     "output_type": "execute_result"
    }
   ],
   "source": [
    "X.two"
   ]
  },
  {
   "cell_type": "code",
   "execution_count": 35,
   "metadata": {},
   "outputs": [
    {
     "data": {
      "text/plain": [
       "'Whatever you want'"
      ]
     },
     "execution_count": 35,
     "metadata": {},
     "output_type": "execute_result"
    }
   ],
   "source": [
    "X.x"
   ]
  },
  {
   "cell_type": "markdown",
   "metadata": {},
   "source": [
    "Here, in all Python classes, we have what looks like a function having the name '__init__' which is actually used to describe the instance of every time a classs is called. Here 'self' seems identical to the 'this' keyword in JavaScript."
   ]
  },
  {
   "cell_type": "code",
   "execution_count": 37,
   "metadata": {},
   "outputs": [],
   "source": [
    "class Sample() :\n",
    "    def __init__(self, quality, quantity, stars) :\n",
    "        self.quality = quality         # quality is a string  \n",
    "        self.quantity = quantity       # quantity is a number\n",
    "        self.stars = stars             # stars is an integer/float based rating\n",
    "        "
   ]
  },
  {
   "cell_type": "code",
   "execution_count": 38,
   "metadata": {},
   "outputs": [],
   "source": [
    "y = Sample(quality = \"GOOD\", quantity = 45, stars = 4.5)\n"
   ]
  },
  {
   "cell_type": "code",
   "execution_count": 39,
   "metadata": {},
   "outputs": [
    {
     "data": {
      "text/plain": [
       "45"
      ]
     },
     "execution_count": 39,
     "metadata": {},
     "output_type": "execute_result"
    }
   ],
   "source": [
    "y.quantity"
   ]
  },
  {
   "cell_type": "code",
   "execution_count": 40,
   "metadata": {},
   "outputs": [
    {
     "data": {
      "text/plain": [
       "4.5"
      ]
     },
     "execution_count": 40,
     "metadata": {},
     "output_type": "execute_result"
    }
   ],
   "source": [
    "y.stars"
   ]
  },
  {
   "cell_type": "code",
   "execution_count": 41,
   "metadata": {},
   "outputs": [
    {
     "data": {
      "text/plain": [
       "'GOOD'"
      ]
     },
     "execution_count": 41,
     "metadata": {},
     "output_type": "execute_result"
    }
   ],
   "source": [
    "y.quality"
   ]
  },
  {
   "cell_type": "markdown",
   "metadata": {},
   "source": [
    "Class Object Attribute: This is an attribute of a certain Python Class which is fixed, i.e. its value does not depend on the instance of the class. "
   ]
  },
  {
   "cell_type": "code",
   "execution_count": 42,
   "metadata": {},
   "outputs": [],
   "source": [
    "#Here, we use an example of a CLass Object Attribute "
   ]
  },
  {
   "cell_type": "code",
   "execution_count": 59,
   "metadata": {},
   "outputs": [],
   "source": [
    "class player() :\n",
    "    GameName = \"PUBG Mobile\"\n",
    "    def __init__(self, name, damage, combat, spray, movement) :\n",
    "        self.damage = damage\n",
    "        self.combat = combat\n",
    "        self.spray = spray\n",
    "        self.movement = movement\n",
    "        self.name = name\n",
    "    "
   ]
  },
  {
   "cell_type": "code",
   "execution_count": 64,
   "metadata": {},
   "outputs": [],
   "source": [
    "a = player(name = \"SidBlitz\", damage = 7334, combat = 5, spray = 4, movement = 5)"
   ]
  },
  {
   "cell_type": "code",
   "execution_count": 65,
   "metadata": {},
   "outputs": [
    {
     "data": {
      "text/plain": [
       "'PUBG Mobile'"
      ]
     },
     "execution_count": 65,
     "metadata": {},
     "output_type": "execute_result"
    }
   ],
   "source": [
    "a.GameName"
   ]
  },
  {
   "cell_type": "code",
   "execution_count": 66,
   "metadata": {},
   "outputs": [
    {
     "data": {
      "text/plain": [
       "'SidBlitz'"
      ]
     },
     "execution_count": 66,
     "metadata": {},
     "output_type": "execute_result"
    }
   ],
   "source": [
    "a.name"
   ]
  },
  {
   "cell_type": "code",
   "execution_count": 68,
   "metadata": {},
   "outputs": [
    {
     "data": {
      "text/plain": [
       "7334"
      ]
     },
     "execution_count": 68,
     "metadata": {},
     "output_type": "execute_result"
    }
   ],
   "source": [
    "a.damage"
   ]
  },
  {
   "cell_type": "code",
   "execution_count": 66,
   "metadata": {},
   "outputs": [],
   "source": [
    "class player() :\n",
    "    GameName = \"PUBG Mobile\"\n",
    "    def __init__(self, name, damage, combat, spray, movement) :\n",
    "        self.damage = damage\n",
    "        self.combat = combat\n",
    "        self.spray = spray\n",
    "        self.movement = movement\n",
    "        self.name = name\n",
    "    def circumference(self, total, team) :\n",
    "        self.total = self.damage + self.combat + self.spray + self.movement\n",
    "        self.team = team;\n",
    "        return self.total, self.team"
   ]
  },
  {
   "cell_type": "code",
   "execution_count": 67,
   "metadata": {},
   "outputs": [],
   "source": [
    "x = player(name = \"SidBlitz\", damage = 8, combat = 9, spray = 8.5, movement = 9.5)"
   ]
  },
  {
   "cell_type": "code",
   "execution_count": 68,
   "metadata": {},
   "outputs": [
    {
     "data": {
      "text/plain": [
       "(35.0, 'ShitSters')"
      ]
     },
     "execution_count": 68,
     "metadata": {},
     "output_type": "execute_result"
    }
   ],
   "source": [
    "x.circumference(0,\"ShitSters\")"
   ]
  },
  {
   "cell_type": "code",
   "execution_count": 69,
   "metadata": {},
   "outputs": [
    {
     "ename": "NameError",
     "evalue": "name 'check' is not defined",
     "output_type": "error",
     "traceback": [
      "\u001b[1;31m---------------------------------------------------------------------------\u001b[0m",
      "\u001b[1;31mNameError\u001b[0m                                 Traceback (most recent call last)",
      "\u001b[1;32m<ipython-input-69-ce2253128392>\u001b[0m in \u001b[0;36m<module>\u001b[1;34m\u001b[0m\n\u001b[1;32m----> 1\u001b[1;33m \u001b[0mcheck\u001b[0m\u001b[1;33m(\u001b[0m\u001b[1;33m)\u001b[0m\u001b[1;33m\u001b[0m\u001b[1;33m\u001b[0m\u001b[0m\n\u001b[0m",
      "\u001b[1;31mNameError\u001b[0m: name 'check' is not defined"
     ]
    }
   ],
   "source": [
    "check()"
   ]
  },
  {
   "cell_type": "code",
   "execution_count": 70,
   "metadata": {},
   "outputs": [],
   "source": [
    "#let's make a class\n",
    "class Winners() :\n",
    "    pmwl_winners = \"PMWL Winners are and always will be: TSM-Entity (in my dreams)\"\n",
    "    def __init__(self, pmco_winners, pmpl_winners, pmis_winners) :\n",
    "        self.pmco_winners = pmco_winners\n",
    "        self.pmpl_winners = pmpl_winners\n",
    "        self.pmis_winners = pmis_winners\n",
    "    def sentence(self) :\n",
    "        x = f\"PMCO winners are: {self.pmco_winners}.\"\n",
    "        y = f\"PMPL winners are: {self.pmpl_winners}.\"\n",
    "        z = f\"PMIS winners are: {self.pmis_winners}.\"\n",
    "        return(x + y + z + self.pmwl_winners)\n",
    "        "
   ]
  },
  {
   "cell_type": "code",
   "execution_count": 71,
   "metadata": {},
   "outputs": [
    {
     "data": {
      "text/plain": [
       "'PMCO winners are: GodL.PMPL winners are: OR.PMIS winners are: TSMEntity.PMWL Winners are and always will be: TSM-Entity (in my dreams)'"
      ]
     },
     "execution_count": 71,
     "metadata": {},
     "output_type": "execute_result"
    }
   ],
   "source": [
    "l = Winners(pmco_winners = \"GodL\", pmpl_winners = \"OR\", pmis_winners = \"TSMEntity\")\n",
    "l.sentence()"
   ]
  },
  {
   "cell_type": "code",
   "execution_count": 72,
   "metadata": {},
   "outputs": [
    {
     "data": {
      "text/plain": [
       "'PMWL Winners are and always will be: TSM-Entity (in my dreams)'"
      ]
     },
     "execution_count": 72,
     "metadata": {},
     "output_type": "execute_result"
    }
   ],
   "source": [
    "l.pmwl_winners"
   ]
  },
  {
   "cell_type": "code",
   "execution_count": 73,
   "metadata": {},
   "outputs": [
    {
     "data": {
      "text/plain": [
       "'PMCO winners are: GodL.PMPL winners are: OR.PMIS winners are: TSMEntity.PMWL Winners are and always will be: TSM-Entity (in my dreams)'"
      ]
     },
     "execution_count": 73,
     "metadata": {},
     "output_type": "execute_result"
    }
   ],
   "source": [
    "m = Winners(pmco_winners = \"GodL\", pmpl_winners = \"OR\", pmis_winners = \"TSMEntity\")\n",
    "m.sentence()"
   ]
  },
  {
   "cell_type": "code",
   "execution_count": 74,
   "metadata": {},
   "outputs": [],
   "source": [
    "class Diners() :\n",
    "    total = 0\n",
    "    kills = 0\n",
    "    def __init__(self, DrNoobnonstop, SidBlitz, Shrapnel, Godsend, RedHanded) :\n",
    "        self.DrNoobnonstop = DrNoobnonstop\n",
    "        self.SidBlitz = SidBlitz\n",
    "        self.Shrapnel = Shrapnel\n",
    "        self.Godsend = Godsend\n",
    "        self.RedHanded = RedHanded\n",
    "        self.etc = \"\"\n",
    "    def pointcount(self, position) :\n",
    "        self.position = position\n",
    "        self.kills = self.SidBlitz + self.Shrapnel + self.Godsend + self.RedHanded + self.DrNoobnonstop\n",
    "        self.total = self.kills + 16 - position \n",
    "        return f\"The Diners got {self.position} as position and a total of {self.total} points from this tournament!\""
   ]
  },
  {
   "cell_type": "code",
   "execution_count": 75,
   "metadata": {},
   "outputs": [
    {
     "data": {
      "text/plain": [
       "'The Diners got 7 as position and a total of 117 points from this tournament!'"
      ]
     },
     "execution_count": 75,
     "metadata": {},
     "output_type": "execute_result"
    }
   ],
   "source": [
    "x = Diners(DrNoobnonstop = 16, SidBlitz = 22, Shrapnel = 27, RedHanded = 13, Godsend = 30)\n",
    "x.pointcount(7)"
   ]
  },
  {
   "cell_type": "markdown",
   "metadata": {},
   "source": [
    "# Inheritance"
   ]
  },
  {
   "cell_type": "markdown",
   "metadata": {},
   "source": [
    "**Inheritance is the ability to form new classes using already-defined classes**"
   ]
  },
  {
   "cell_type": "code",
   "execution_count": 76,
   "metadata": {},
   "outputs": [],
   "source": [
    "#e.g.\n",
    "class Games() :\n",
    "    def __init__(self, games) :\n",
    "        self.games = games\n",
    "    def getOut(self) :\n",
    "        for i in self.games :\n",
    "            if (i == \"PUBG\") :\n",
    "                return \"Yay!\"\n",
    "            \n",
    "        return 'Get Lost!'"
   ]
  },
  {
   "cell_type": "code",
   "execution_count": 77,
   "metadata": {},
   "outputs": [
    {
     "data": {
      "text/plain": [
       "'Yay!'"
      ]
     },
     "execution_count": 77,
     "metadata": {},
     "output_type": "execute_result"
    }
   ],
   "source": [
    "x = Games(games = ['Valorant', 'Call of Duty', 'Mortal Kombat', 'Modern Warfare', 'PUBG'])\n",
    "x.getOut()"
   ]
  },
  {
   "cell_type": "code",
   "execution_count": 78,
   "metadata": {},
   "outputs": [],
   "source": [
    "class Shitsters(Games, Diners) :\n",
    "    def __init__(self) :\n",
    "        print(\"It's working!\")\n",
    "    def inherit(self):\n",
    "        self.games = [\"jdfnf\", \"uunfun\", \"sdnufni\", \"iejif\", \"PUBG\", \"ifnhu\", \"riiu\"]\n",
    "        if (self.getOut() == \"Yay!\") :\n",
    "            Diners.__init__(self, 16, 18, 25, 27, 21)\n",
    "            print(self.pointcount(4))\n",
    "        "
   ]
  },
  {
   "cell_type": "code",
   "execution_count": 79,
   "metadata": {},
   "outputs": [
    {
     "name": "stdout",
     "output_type": "stream",
     "text": [
      "It's working!\n",
      "The Diners got 4 as position and a total of 119 points from this tournament!\n"
     ]
    }
   ],
   "source": [
    "x = Shitsters()\n",
    "x.inherit()"
   ]
  },
  {
   "cell_type": "markdown",
   "metadata": {},
   "source": [
    "Here, according to me, all the elements from other classes are being inherited and used with the self keyword. For example: self.getOut() can be used perfectly inside the Shitsters() class even if it belongs to the Games() class. The only constraint is the \"self.\" part."
   ]
  },
  {
   "cell_type": "code",
   "execution_count": 80,
   "metadata": {},
   "outputs": [
    {
     "ename": "NameError",
     "evalue": "name 'check' is not defined",
     "output_type": "error",
     "traceback": [
      "\u001b[1;31m---------------------------------------------------------------------------\u001b[0m",
      "\u001b[1;31mNameError\u001b[0m                                 Traceback (most recent call last)",
      "\u001b[1;32m<ipython-input-80-ce2253128392>\u001b[0m in \u001b[0;36m<module>\u001b[1;34m\u001b[0m\n\u001b[1;32m----> 1\u001b[1;33m \u001b[0mcheck\u001b[0m\u001b[1;33m(\u001b[0m\u001b[1;33m)\u001b[0m\u001b[1;33m\u001b[0m\u001b[1;33m\u001b[0m\u001b[0m\n\u001b[0m",
      "\u001b[1;31mNameError\u001b[0m: name 'check' is not defined"
     ]
    }
   ],
   "source": [
    "check()"
   ]
  },
  {
   "cell_type": "markdown",
   "metadata": {},
   "source": [
    "# Polymorphism"
   ]
  },
  {
   "cell_type": "markdown",
   "metadata": {},
   "source": [
    "**Polymorphism refers to the way different Object Classes can share the same methd names**"
   ]
  },
  {
   "cell_type": "code",
   "execution_count": 81,
   "metadata": {},
   "outputs": [],
   "source": [
    "#e.g.\n",
    "class PUBG() :\n",
    "    def __init__(self, firepower, strategy, handling, name) :\n",
    "        self.firepower = firepower\n",
    "        self.strategy = strategy\n",
    "        self.handling = handling\n",
    "        self.name = name"
   ]
  },
  {
   "cell_type": "code",
   "execution_count": 82,
   "metadata": {},
   "outputs": [],
   "source": [
    "\n",
    "class Team(PUBG) :\n",
    "    \n",
    "    def giveOut(self) :\n",
    "        print(f\"We're looking at Team {self.name} here!\")\n",
    "        print(f\"Firepower Rating of {self.name} is: {self.firepower}.\")\n",
    "        print(f\"Strategy rating is going to be: {self.strategy}.\")\n",
    "        print(f\"Handling of this team is rated as: {self.handling}!\")\n",
    "        "
   ]
  },
  {
   "cell_type": "code",
   "execution_count": 83,
   "metadata": {},
   "outputs": [],
   "source": [
    "x = Team(7, 9, 9.5, \"S8uL\")"
   ]
  },
  {
   "cell_type": "code",
   "execution_count": 84,
   "metadata": {},
   "outputs": [
    {
     "name": "stdout",
     "output_type": "stream",
     "text": [
      "We're looking at Team S8uL here!\n",
      "Firepower Rating of S8uL is: 7.\n",
      "Strategy rating is going to be: 9.\n",
      "Handling of this team is rated as: 9.5!\n"
     ]
    }
   ],
   "source": [
    "x.giveOut()"
   ]
  },
  {
   "cell_type": "code",
   "execution_count": 85,
   "metadata": {},
   "outputs": [],
   "source": [
    "class Squad(PUBG) :\n",
    "    def giveOut(self) :\n",
    "        print(f\"We're looking at Squad {self.name} here!\")\n",
    "        print(f\"Firepower Rating of {self.name} is: {self.firepower}.\")\n",
    "        print(f\"Strategy rating is going to be: {self.strategy}.\")\n",
    "        print(f\"Handling of this squad is rated as: {self.handling}!\")\n",
    "\n",
    "    "
   ]
  },
  {
   "cell_type": "code",
   "execution_count": 86,
   "metadata": {},
   "outputs": [],
   "source": [
    "x = Squad(7.5, 9.0, 9, \"TSMEnt-GhatakSide\")"
   ]
  },
  {
   "cell_type": "code",
   "execution_count": 87,
   "metadata": {},
   "outputs": [
    {
     "name": "stdout",
     "output_type": "stream",
     "text": [
      "We're looking at Squad TSMEnt-GhatakSide here!\n",
      "Firepower Rating of TSMEnt-GhatakSide is: 7.5.\n",
      "Strategy rating is going to be: 9.0.\n",
      "Handling of this squad is rated as: 9!\n"
     ]
    }
   ],
   "source": [
    "x.giveOut()"
   ]
  },
  {
   "cell_type": "markdown",
   "metadata": {},
   "source": [
    "Here the giveOut() functions in the classes Squad() and Team() have similar names yet, their output is different. Note here also, that I used the base class PUBG() to define the ______________________init__() function once and for all."
   ]
  },
  {
   "cell_type": "code",
   "execution_count": 121,
   "metadata": {},
   "outputs": [],
   "source": [
    "#now we are gonna use the special dunder functions, an example of which is the __init__() function.\n",
    "class Player(Team) :\n",
    "    total = 0\n",
    "    def skills(self, firepower, handling, strategy) :\n",
    "        self.firepower = firepower\n",
    "        self.handling = handling\n",
    "        self.strategy = strategy\n",
    "        self.total = (self.firepower + self.strategy) + self.handling\n",
    "    def __len__(self):\n",
    "        return len(self.total)\n",
    "    def __del__(self) :\n",
    "        return \"Object has been deleted!\""
   ]
  },
  {
   "cell_type": "code",
   "execution_count": 122,
   "metadata": {},
   "outputs": [],
   "source": [
    "x = Player(\"High\", \"Very good Handling, no Panic\", \"Well-thought out strategies\", \"Diners\")"
   ]
  },
  {
   "cell_type": "code",
   "execution_count": 123,
   "metadata": {},
   "outputs": [],
   "source": [
    "x.skills(\"High\", \"Very good Handling, no Panic\", \"Well-thought out strategies\")"
   ]
  },
  {
   "cell_type": "code",
   "execution_count": 124,
   "metadata": {},
   "outputs": [
    {
     "data": {
      "text/plain": [
       "59"
      ]
     },
     "execution_count": 124,
     "metadata": {},
     "output_type": "execute_result"
    }
   ],
   "source": [
    "x.__len__()"
   ]
  },
  {
   "cell_type": "code",
   "execution_count": 125,
   "metadata": {},
   "outputs": [
    {
     "data": {
      "text/plain": [
       "'Object has been deleted!'"
      ]
     },
     "execution_count": 125,
     "metadata": {},
     "output_type": "execute_result"
    }
   ],
   "source": [
    "x.__del__()"
   ]
  },
  {
   "cell_type": "code",
   "execution_count": null,
   "metadata": {},
   "outputs": [],
   "source": []
  },
  {
   "cell_type": "markdown",
   "metadata": {},
   "source": [
    "# Homework Assignment"
   ]
  },
  {
   "cell_type": "markdown",
   "metadata": {},
   "source": [
    "**Assignment 1**"
   ]
  },
  {
   "cell_type": "markdown",
   "metadata": {},
   "source": [
    "Find the slope and intercept of the line."
   ]
  },
  {
   "cell_type": "code",
   "execution_count": 21,
   "metadata": {},
   "outputs": [],
   "source": [
    "class Line:\n",
    "    \n",
    "    def __init__(self,coor1,coor2):\n",
    "        self.coor1 = coor1\n",
    "        self.coor2 = coor2\n",
    "    \n",
    "    \n",
    "    def distance(self):\n",
    "        x = ((self.coor1[0])-(self.coor2[0]))**2 + ((self.coor1[1])-(self.coor2[1]))**2\n",
    "        return (x**0.5)\n",
    "    \n",
    "    def slope(self):\n",
    "        s = ((self.coor2[1])-(self.coor1[1]))/((self.coor2[0])-(self.coor1[0]))\n",
    "        return s"
   ]
  },
  {
   "cell_type": "code",
   "execution_count": 22,
   "metadata": {},
   "outputs": [],
   "source": [
    "# EXAMPLE OUTPUT\n",
    "\n",
    "coordinate1 = (3,2)\n",
    "coordinate2 = (8,10)\n",
    "\n",
    "li = Line(coordinate1,coordinate2)"
   ]
  },
  {
   "cell_type": "code",
   "execution_count": 23,
   "metadata": {},
   "outputs": [
    {
     "data": {
      "text/plain": [
       "9.433981132056603"
      ]
     },
     "execution_count": 23,
     "metadata": {},
     "output_type": "execute_result"
    }
   ],
   "source": [
    "li.distance()"
   ]
  },
  {
   "cell_type": "code",
   "execution_count": 24,
   "metadata": {},
   "outputs": [
    {
     "data": {
      "text/plain": [
       "1.6"
      ]
     },
     "execution_count": 24,
     "metadata": {},
     "output_type": "execute_result"
    }
   ],
   "source": [
    "li.slope()"
   ]
  },
  {
   "cell_type": "markdown",
   "metadata": {},
   "source": [
    "# Problem 2"
   ]
  },
  {
   "cell_type": "markdown",
   "metadata": {},
   "source": [
    "Fill in the class"
   ]
  },
  {
   "cell_type": "code",
   "execution_count": 17,
   "metadata": {},
   "outputs": [],
   "source": [
    "class Cylinder:\n",
    "    \n",
    "    def __init__(self,height=1,radius=1):\n",
    "        self.height = height\n",
    "        self.radius = radius\n",
    "        \n",
    "    def volume(self):\n",
    "        return ((self.radius)**2 * 3.14 * self.height)\n",
    "    \n",
    "    def surface_area(self):\n",
    "        return(2*3.14*self.radius*self.height + 2*3.14*(self.radius)**2)"
   ]
  },
  {
   "cell_type": "code",
   "execution_count": 18,
   "metadata": {},
   "outputs": [],
   "source": [
    "# EXAMPLE OUTPUT\n",
    "c = Cylinder(2,3)"
   ]
  },
  {
   "cell_type": "code",
   "execution_count": 19,
   "metadata": {},
   "outputs": [
    {
     "data": {
      "text/plain": [
       "56.52"
      ]
     },
     "execution_count": 19,
     "metadata": {},
     "output_type": "execute_result"
    }
   ],
   "source": [
    "c.volume()"
   ]
  },
  {
   "cell_type": "code",
   "execution_count": 20,
   "metadata": {},
   "outputs": [
    {
     "data": {
      "text/plain": [
       "94.2"
      ]
     },
     "execution_count": 20,
     "metadata": {},
     "output_type": "execute_result"
    }
   ],
   "source": [
    "c.surface_area()"
   ]
  },
  {
   "cell_type": "markdown",
   "metadata": {},
   "source": [
    "# Object Oriented Programming Challenge"
   ]
  },
  {
   "cell_type": "markdown",
   "metadata": {},
   "source": [
    "For this challenge, create a bank account class that has two attributes:\n",
    "\n",
    "    owner\n",
    "    balance\n",
    "\n",
    "and two methods:\n",
    "\n",
    "    deposit\n",
    "    withdraw\n",
    "\n",
    "As an added requirement, withdrawals may not exceed the available balance.\n",
    "\n",
    "Instantiate your class, make several deposits and withdrawals, and test to make sure the account can't be overdrawn.\n"
   ]
  },
  {
   "cell_type": "code",
   "execution_count": 57,
   "metadata": {},
   "outputs": [],
   "source": [
    "class Account:\n",
    "    def __init__(self, owner, balance) :\n",
    "        self.owner = owner\n",
    "        self.balance = balance\n",
    "    def deposit(self, amount) :\n",
    "        self.amount = amount\n",
    "        self.balance = self.amount + self.balance\n",
    "    def withdraw(self, amount) :\n",
    "        self.amount = amount\n",
    "        if self.amount > self.balance :\n",
    "            return(\"Funds Unavailable!\")\n",
    "        self.balance = self.balance - self.amount\n",
    "    def __str__(self) :\n",
    "        return(f\"Account Owner: {self.owner}\\nAccount Balance: {self.balance}\")"
   ]
  },
  {
   "cell_type": "code",
   "execution_count": 58,
   "metadata": {},
   "outputs": [],
   "source": [
    "# 1. Instantiate the class\n",
    "acct1 = Account('Jose',100)"
   ]
  },
  {
   "cell_type": "code",
   "execution_count": 59,
   "metadata": {},
   "outputs": [
    {
     "name": "stdout",
     "output_type": "stream",
     "text": [
      "Account Owner: Jose\n",
      "Account Balance: 100\n"
     ]
    }
   ],
   "source": [
    "# 2. Print the object\n",
    "print(acct1)"
   ]
  },
  {
   "cell_type": "code",
   "execution_count": 60,
   "metadata": {},
   "outputs": [
    {
     "data": {
      "text/plain": [
       "'Jose'"
      ]
     },
     "execution_count": 60,
     "metadata": {},
     "output_type": "execute_result"
    }
   ],
   "source": [
    "# 3. Show the account owner attribute\n",
    "acct1.owner"
   ]
  },
  {
   "cell_type": "code",
   "execution_count": 61,
   "metadata": {},
   "outputs": [
    {
     "data": {
      "text/plain": [
       "100"
      ]
     },
     "execution_count": 61,
     "metadata": {},
     "output_type": "execute_result"
    }
   ],
   "source": [
    "# 4. Show the account balance attribute\n",
    "acct1.balance"
   ]
  },
  {
   "cell_type": "code",
   "execution_count": 62,
   "metadata": {},
   "outputs": [],
   "source": [
    "# 5. Make a series of deposits and withdrawals\n",
    "acct1.deposit(50)"
   ]
  },
  {
   "cell_type": "code",
   "execution_count": 63,
   "metadata": {},
   "outputs": [],
   "source": [
    "acct1.withdraw(75)"
   ]
  },
  {
   "cell_type": "code",
   "execution_count": 64,
   "metadata": {},
   "outputs": [
    {
     "data": {
      "text/plain": [
       "'Funds Unavailable!'"
      ]
     },
     "execution_count": 64,
     "metadata": {},
     "output_type": "execute_result"
    }
   ],
   "source": [
    "# 6. Make a withdrawal that exceeds the available balance\n",
    "acct1.withdraw(500)"
   ]
  },
  {
   "cell_type": "markdown",
   "metadata": {},
   "source": [
    "# Good job!"
   ]
  }
 ],
 "metadata": {
  "kernelspec": {
   "display_name": "Python 3",
   "language": "python",
   "name": "python3"
  },
  "language_info": {
   "codemirror_mode": {
    "name": "ipython",
    "version": 3
   },
   "file_extension": ".py",
   "mimetype": "text/x-python",
   "name": "python",
   "nbconvert_exporter": "python",
   "pygments_lexer": "ipython3",
   "version": "3.7.4"
  }
 },
 "nbformat": 4,
 "nbformat_minor": 2
}
